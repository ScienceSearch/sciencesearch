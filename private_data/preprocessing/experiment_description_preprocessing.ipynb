{
 "cells": [
  {
   "cell_type": "markdown",
   "id": "08724741",
   "metadata": {},
   "source": [
    "### connect to SQL database "
   ]
  },
  {
   "cell_type": "code",
   "execution_count": 1,
   "id": "a2de3056",
   "metadata": {},
   "outputs": [],
   "source": [
    "import sqlite3\n",
    "import pandas as pd\n",
    "from sciencesearch.nlp.preprocessing import Preprocessor"
   ]
  },
  {
   "cell_type": "code",
   "execution_count": 3,
   "id": "b0028f19",
   "metadata": {},
   "outputs": [
    {
     "ename": "OperationalError",
     "evalue": "unable to open database file",
     "output_type": "error",
     "traceback": [
      "\u001b[0;31m---------------------------------------------------------------------------\u001b[0m",
      "\u001b[0;31mOperationalError\u001b[0m                          Traceback (most recent call last)",
      "Cell \u001b[0;32mIn[3], line 1\u001b[0m\n\u001b[0;32m----> 1\u001b[0m connection \u001b[38;5;241m=\u001b[39m \u001b[43msqlite3\u001b[49m\u001b[38;5;241;43m.\u001b[39;49m\u001b[43mconnect\u001b[49m\u001b[43m(\u001b[49m\u001b[38;5;124;43m'\u001b[39;49m\u001b[38;5;124;43m../,,/simplified_elog.db\u001b[39;49m\u001b[38;5;124;43m'\u001b[39;49m\u001b[43m)\u001b[49m\n\u001b[1;32m      3\u001b[0m cursor \u001b[38;5;241m=\u001b[39m connection\u001b[38;5;241m.\u001b[39mcursor()\n\u001b[1;32m      4\u001b[0m \u001b[38;5;28mprint\u001b[39m(\u001b[38;5;124m\"\u001b[39m\u001b[38;5;124mConnected to the database\u001b[39m\u001b[38;5;124m\"\u001b[39m)\n",
      "\u001b[0;31mOperationalError\u001b[0m: unable to open database file"
     ]
    }
   ],
   "source": [
    "connection = sqlite3.connect('../,,/simplified_elog.db')\n",
    "\n",
    "cursor = connection.cursor()\n",
    "print(\"Connected to the database\")\n",
    "cursor.execute(\"\"\"\n",
    "    SELECT name FROM sqlite_master \n",
    "    WHERE type='table';\n",
    "\"\"\")\n",
    "\n",
    "result = cursor.fetchall()\n",
    "\n",
    "query = \"SELECT * FROM experiments\"\n",
    "df_experiments = pd.read_sql(query, connection)\n",
    "\n",
    "connection.close()"
   ]
  },
  {
   "cell_type": "code",
   "execution_count": null,
   "id": "73ecb7fa",
   "metadata": {},
   "outputs": [],
   "source": [
    "df_experiments"
   ]
  },
  {
   "cell_type": "code",
   "execution_count": null,
   "id": "98be1b65",
   "metadata": {},
   "outputs": [],
   "source": [
    "preprocessor = Preprocessor()\n",
    "for index, row in df_experiments.iterrows():\n",
    "    experiment_id = row['experiment_id']\n",
    "    description = row['description']\n",
    "    clean = preprocessor.process_string(description)\n",
    "\n",
    "    with open(f'../private_data/descriptions/{experiment_id}.txt', \"w\") as f:\n",
    "        f.write(clean)\n"
   ]
  }
 ],
 "metadata": {
  "kernelspec": {
   "display_name": "scisearch",
   "language": "python",
   "name": "python3"
  },
  "language_info": {
   "codemirror_mode": {
    "name": "ipython",
    "version": 3
   },
   "file_extension": ".py",
   "mimetype": "text/x-python",
   "name": "python",
   "nbconvert_exporter": "python",
   "pygments_lexer": "ipython3",
   "version": "3.10.16"
  }
 },
 "nbformat": 4,
 "nbformat_minor": 5
}
