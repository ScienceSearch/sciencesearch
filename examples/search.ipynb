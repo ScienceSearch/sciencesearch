{
 "cells": [
  {
   "cell_type": "code",
   "execution_count": 1,
   "id": "0236f07b-6386-4a92-89e7-0ee4b049f86a",
   "metadata": {},
   "outputs": [],
   "source": [
    "from sciencesearch.nlp.search import Searcher\n",
    "import pandas as pd"
   ]
  },
  {
   "cell_type": "code",
   "execution_count": 2,
   "id": "58f35350-bdfe-48f0-8018-e79c1882ace3",
   "metadata": {},
   "outputs": [],
   "source": [
    "demo = Searcher.from_config(\"slac_config.json\")"
   ]
  },
  {
   "cell_type": "code",
   "execution_count": 3,
   "id": "daad492a-792a-4523-88c3-b651f47dcbd1",
   "metadata": {},
   "outputs": [
    {
     "data": {
      "text/html": [
       "<div>\n",
       "<style scoped>\n",
       "    .dataframe tbody tr th:only-of-type {\n",
       "        vertical-align: middle;\n",
       "    }\n",
       "\n",
       "    .dataframe tbody tr th {\n",
       "        vertical-align: top;\n",
       "    }\n",
       "\n",
       "    .dataframe thead th {\n",
       "        text-align: right;\n",
       "    }\n",
       "</style>\n",
       "<table border=\"1\" class=\"dataframe\">\n",
       "  <thead>\n",
       "    <tr style=\"text-align: right;\">\n",
       "      <th></th>\n",
       "      <th>mfxp22120_content.txt</th>\n",
       "      <th>mfxp17218_content.txt</th>\n",
       "      <th>mfxp24020_content.txt</th>\n",
       "      <th>mfxp17118_content.txt</th>\n",
       "    </tr>\n",
       "  </thead>\n",
       "  <tbody>\n",
       "    <tr>\n",
       "      <th>0</th>\n",
       "      <td>water</td>\n",
       "      <td>beam</td>\n",
       "      <td>water</td>\n",
       "      <td>cell</td>\n",
       "    </tr>\n",
       "    <tr>\n",
       "      <th>1</th>\n",
       "      <td>run sample</td>\n",
       "      <td>sample</td>\n",
       "      <td>sample concentration</td>\n",
       "      <td>psdm mfx calib</td>\n",
       "    </tr>\n",
       "    <tr>\n",
       "      <th>2</th>\n",
       "      <td>jet</td>\n",
       "      <td>rna</td>\n",
       "      <td>transmission</td>\n",
       "      <td>epix10ka2</td>\n",
       "    </tr>\n",
       "    <tr>\n",
       "      <th>3</th>\n",
       "      <td>crystallized</td>\n",
       "      <td>min</td>\n",
       "      <td>ludicrous mode</td>\n",
       "      <td>crystal</td>\n",
       "    </tr>\n",
       "    <tr>\n",
       "      <th>4</th>\n",
       "      <td>naac</td>\n",
       "      <td>change sample</td>\n",
       "      <td>sample</td>\n",
       "      <td>clpro</td>\n",
       "    </tr>\n",
       "    <tr>\n",
       "      <th>5</th>\n",
       "      <td>nadh</td>\n",
       "      <td>hutch</td>\n",
       "      <td>droplet</td>\n",
       "      <td>monoclinic</td>\n",
       "    </tr>\n",
       "    <tr>\n",
       "      <th>6</th>\n",
       "      <td>nqo1</td>\n",
       "      <td>open hutch</td>\n",
       "      <td>diffraction</td>\n",
       "      <td>aug</td>\n",
       "    </tr>\n",
       "    <tr>\n",
       "      <th>7</th>\n",
       "      <td>peg running</td>\n",
       "      <td>helium</td>\n",
       "      <td>hits</td>\n",
       "      <td>cell constants</td>\n",
       "    </tr>\n",
       "    <tr>\n",
       "      <th>8</th>\n",
       "      <td>peg</td>\n",
       "      <td>ul min</td>\n",
       "      <td>xtals</td>\n",
       "      <td>psdm mfx</td>\n",
       "    </tr>\n",
       "    <tr>\n",
       "      <th>9</th>\n",
       "      <td>hutch</td>\n",
       "      <td>increasing flow</td>\n",
       "      <td>shooting</td>\n",
       "      <td>reindexed</td>\n",
       "    </tr>\n",
       "  </tbody>\n",
       "</table>\n",
       "</div>"
      ],
      "text/plain": [
       "  mfxp22120_content.txt mfxp17218_content.txt mfxp24020_content.txt  \\\n",
       "0                 water                  beam                 water   \n",
       "1            run sample                sample  sample concentration   \n",
       "2                   jet                   rna          transmission   \n",
       "3          crystallized                   min        ludicrous mode   \n",
       "4                  naac         change sample                sample   \n",
       "5                  nadh                 hutch               droplet   \n",
       "6                  nqo1            open hutch           diffraction   \n",
       "7           peg running                helium                  hits   \n",
       "8                   peg                ul min                 xtals   \n",
       "9                 hutch       increasing flow              shooting   \n",
       "\n",
       "  mfxp17118_content.txt  \n",
       "0                  cell  \n",
       "1        psdm mfx calib  \n",
       "2             epix10ka2  \n",
       "3               crystal  \n",
       "4                 clpro  \n",
       "5            monoclinic  \n",
       "6                   aug  \n",
       "7        cell constants  \n",
       "8              psdm mfx  \n",
       "9             reindexed  "
      ]
     },
     "execution_count": 3,
     "metadata": {},
     "output_type": "execute_result"
    }
   ],
   "source": [
    "pd.DataFrame(demo.file_keywords)"
   ]
  },
  {
   "cell_type": "code",
   "execution_count": 4,
   "id": "2d95cda4-0c4e-4421-903b-ba922d52a304",
   "metadata": {},
   "outputs": [
    {
     "data": {
      "text/plain": [
       "{'mfxp17118_content.txt'}"
      ]
     },
     "execution_count": 4,
     "metadata": {},
     "output_type": "execute_result"
    }
   ],
   "source": [
    "demo.find(\"monoclinic\")"
   ]
  },
  {
   "cell_type": "code",
   "execution_count": 5,
   "id": "926081e6-1fa5-442e-b707-c087c4ecda7f",
   "metadata": {},
   "outputs": [
    {
     "data": {
      "text/plain": [
       "set()"
      ]
     },
     "execution_count": 5,
     "metadata": {},
     "output_type": "execute_result"
    }
   ],
   "source": [
    "demo.find(\"platypus\")"
   ]
  },
  {
   "cell_type": "code",
   "execution_count": 6,
   "id": "fabe4660-72cb-4014-890e-f1b2aa40ee14",
   "metadata": {},
   "outputs": [
    {
     "data": {
      "text/plain": [
       "{'mfxp22120_content.txt', 'mfxp24020_content.txt'}"
      ]
     },
     "execution_count": 6,
     "metadata": {},
     "output_type": "execute_result"
    }
   ],
   "source": [
    "demo.find(\"water\")"
   ]
  },
  {
   "cell_type": "code",
   "execution_count": null,
   "id": "ee16af8b-9be8-41dc-aefc-afa22fac385a",
   "metadata": {},
   "outputs": [],
   "source": []
  }
 ],
 "metadata": {
  "kernelspec": {
   "display_name": "Python 3 (ipykernel)",
   "language": "python",
   "name": "python3"
  },
  "language_info": {
   "codemirror_mode": {
    "name": "ipython",
    "version": 3
   },
   "file_extension": ".py",
   "mimetype": "text/x-python",
   "name": "python",
   "nbconvert_exporter": "python",
   "pygments_lexer": "ipython3",
   "version": "3.12.10"
  }
 },
 "nbformat": 4,
 "nbformat_minor": 5
}
