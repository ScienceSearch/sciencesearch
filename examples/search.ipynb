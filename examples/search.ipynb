{
 "cells": [
  {
   "cell_type": "code",
   "execution_count": 7,
   "id": "0236f07b-6386-4a92-89e7-0ee4b049f86a",
   "metadata": {},
   "outputs": [],
   "source": [
    "from sciencesearch.nlp.search import Searcher\n",
    "import pandas as pd"
   ]
  },
  {
   "cell_type": "code",
   "execution_count": 9,
   "id": "58f35350-bdfe-48f0-8018-e79c1882ace3",
   "metadata": {},
   "outputs": [
    {
     "name": "stdout",
     "output_type": "stream",
     "text": [
      "Processing file: file1.txt\n",
      "Processing file: file2.txt\n"
     ]
    }
   ],
   "source": [
    "demo = Searcher.from_config(\"search_config.json\")"
   ]
  },
  {
   "cell_type": "code",
   "execution_count": 16,
   "id": "daad492a-792a-4523-88c3-b651f47dcbd1",
   "metadata": {},
   "outputs": [
    {
     "name": "stdout",
     "output_type": "stream",
     "text": [
      "file8.txt => lady, mother, golden comb, comb, wife, house, Hasunuma, Konojo, south wind, greatly desired, men, loved, daughter, princess, God, Spring, jewel, gods, ama boko\n",
      "file3.txt => rode, willow trees, tomodata, sweet, green, noto, horse, lord, samurai, maiden, Green Willow, love, Noto, Lord, quest, daimyo, Long-haired maiden, willow, Tomodata\n",
      "file7.txt => water, Fade, prince fire fade, sea, prince, fading, Prince, jewels, Fire Flash, Fire, fire flash, Fire Fade, fire fade, Jewel Princess, fire, Sea King, Prince Fire, Sea, prince fire, Sea Path\n",
      "file1.txt => grey, sound, dreamer, hands, brother, shrine, night, hunter, sing, brothers, wandered, stone, gods, loved, hand\n",
      "file5.txt => good wife, Gutenberg Literary, také tori, work, FULL PROJECT, bamboo, PROJECT GUTENBERG, wife, cried, tori, PROJECT, Archive Foundation, electronic works, bright, GUTENBERG, big green, Tori, také, jewel, Také Tori\n",
      "file4.txt => flowers, High Heaven, Mistress Tassel, wise, jofuku, Heaven, cried, man, stood, china, Wise Man, Wise, young, SUSA, father, wise man, young man, Man, head, gods\n",
      "file6.txt => mio strand, warm wind, High Heaven, Mio Strand, fisherman, Heaven, SINGING BIRD, Prince, pine trees, fairy, strange people, dancing, Young, sand, robes, Mio, mio, strand, Young Prince\n",
      "file9.txt => Hagiwara Sama, lady, priest, Morning Dew, cried, man, house, novice, samurai, lord, loved, bright eyes, holy man, Hagiwara, morning, tinker, kettle, holy, tea-kettle\n",
      "file10.txt => man, home, day, house, woman, Fugiwaka, dance, Matsu, Lady, sword, night, sing, pet sparrow, starch, Lady Sadako, sparrow, Idé\n",
      "file2.txt => flowers, sixteen years, Lady Aya, lady, maidens, sweet, Lady, Aya, young Lord, moon, garden, daimyo, ako, lady aya, aya, garden gallery, lord\n"
     ]
    }
   ],
   "source": [
    "for f, k in demo.file_keywords.items():\n",
    "    print(f\"{f} => {', '.join(k)}\")"
   ]
  },
  {
   "cell_type": "code",
   "execution_count": 12,
   "id": "2d95cda4-0c4e-4421-903b-ba922d52a304",
   "metadata": {},
   "outputs": [
    {
     "data": {
      "text/plain": [
       "{'file2.txt', 'file8.txt', 'file9.txt'}"
      ]
     },
     "execution_count": 12,
     "metadata": {},
     "output_type": "execute_result"
    }
   ],
   "source": [
    "demo.find(\"lady\")"
   ]
  },
  {
   "cell_type": "code",
   "execution_count": 13,
   "id": "926081e6-1fa5-442e-b707-c087c4ecda7f",
   "metadata": {},
   "outputs": [
    {
     "data": {
      "text/plain": [
       "set()"
      ]
     },
     "execution_count": 13,
     "metadata": {},
     "output_type": "execute_result"
    }
   ],
   "source": [
    "demo.find(\"platypus\")"
   ]
  },
  {
   "cell_type": "code",
   "execution_count": 14,
   "id": "fabe4660-72cb-4014-890e-f1b2aa40ee14",
   "metadata": {},
   "outputs": [
    {
     "data": {
      "text/plain": [
       "{'file7.txt'}"
      ]
     },
     "execution_count": 14,
     "metadata": {},
     "output_type": "execute_result"
    }
   ],
   "source": [
    "demo.find(\"water\")"
   ]
  },
  {
   "cell_type": "code",
   "execution_count": null,
   "id": "ee16af8b-9be8-41dc-aefc-afa22fac385a",
   "metadata": {},
   "outputs": [],
   "source": []
  }
 ],
 "metadata": {
  "kernelspec": {
   "display_name": "Python 3 (ipykernel)",
   "language": "python",
   "name": "python3"
  },
  "language_info": {
   "codemirror_mode": {
    "name": "ipython",
    "version": 3
   },
   "file_extension": ".py",
   "mimetype": "text/x-python",
   "name": "python",
   "nbconvert_exporter": "python",
   "pygments_lexer": "ipython3",
   "version": "3.12.10"
  }
 },
 "nbformat": 4,
 "nbformat_minor": 5
}
