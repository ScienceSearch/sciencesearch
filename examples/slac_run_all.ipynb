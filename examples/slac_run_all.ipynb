{
 "cells": [
  {
   "cell_type": "markdown",
   "id": "57515761",
   "metadata": {},
   "source": [
    "# Extract keywords from SLAC experiment logs\n",
    "\n",
    "This example notebook will demonstrate how to configure and run the ScienceSearch Python tools for keyword extraction.\n",
    "\n",
    "For more information about ScienceSearch, see also:\n",
    "- [sciencesearch Github repository](https://github.com/ScienceSearch/sciencesearch).\n",
    "- AI-generated [documentation pages](https://deepwiki.com/ScienceSearch/sciencesearch/1-overview).\n",
    "\n",
    "## Prerequisites\n",
    "- A Python environment which includes ScienceSearch Python package `sciencesearch` (see [../README.md](../README.md))\n",
    "- A SLAC-generated SQLite database"
   ]
  },
  {
   "cell_type": "markdown",
   "id": "a0f9b40f",
   "metadata": {},
   "source": [
    "## Setup\n",
    "Python imports and some logging setup"
   ]
  },
  {
   "cell_type": "code",
   "execution_count": null,
   "id": "808a9a8b",
   "metadata": {},
   "outputs": [],
   "source": [
    "# imports\n",
    "from pathlib import Path\n",
    "from sciencesearch.nlp.search import KeywordExplorer\n",
    "from sciencesearch.nlp.slac_data_extractor import SLACDatabaseDataExtractor\n",
    "from IPython.core.display import HTML\n",
    "\n",
    "# logging setup\n",
    "import logging\n",
    "\n",
    "logging.root.setLevel(logging.ERROR)  # silence pke warnings\n",
    "slog = logging.getLogger(\"sciencesearch\")\n",
    "slog.setLevel(logging.WARNING)\n",
    "from sciencesearch.nlp.visualize_kws import JsonView\n",
    "from pathlib import Path\n",
    "import json"
   ]
  },
  {
   "cell_type": "code",
   "execution_count": null,
   "id": "61c2f64c",
   "metadata": {},
   "outputs": [],
   "source": [
    "# Connect to config directory\n",
    "conf_dir = Path(\".\") / \"config_files\""
   ]
  },
  {
   "cell_type": "markdown",
   "id": "14a8d801",
   "metadata": {},
   "source": []
  },
  {
   "cell_type": "code",
   "execution_count": null,
   "id": "f9ae11f7",
   "metadata": {},
   "outputs": [],
   "source": [
    "## Experiment descriptions NOT REPLACEMENT\n",
    "conf_file_descriptions = conf_dir / \"slac_config_descriptions.json\"\n",
    "SLACDatabaseDataExtractor(\n",
    "    conf_file_descriptions, replace_abbrv=False\n",
    ").process_experiment_descriptions()\n",
    "# kwe_des = KeywordExplorer.from_config(conf_file_descriptions)\n",
    "# kwe_des.save_keywords_to_file('description_kws1')"
   ]
  },
  {
   "cell_type": "code",
   "execution_count": null,
   "id": "223801d0",
   "metadata": {},
   "outputs": [],
   "source": [
    "## Experiment descriptions  REPLACEMENT\n",
    "conf_file_descriptions = conf_dir / \"slac_config_descriptions.json\"\n",
    "SLACDatabaseDataExtractor(\n",
    "    conf_file_descriptions, replace_abbrv=True\n",
    ").process_experiment_descriptions()\n",
    "# kwe_des = KeywordExplorer.from_config(conf_file_descriptions)\n",
    "# kwe_des.save_keywords_to_file('acronym_description_kws1')"
   ]
  },
  {
   "cell_type": "code",
   "execution_count": null,
   "id": "4180b14b-131d-4926-bf25-afc09eb24cc6",
   "metadata": {},
   "outputs": [],
   "source": [
    "## Elogs and experiment parameters NOT REPLACEMENT\n",
    "conf_file_params = conf_dir / \"slac_config_params.json\"\n",
    "SLACDatabaseDataExtractor(\n",
    "    conf_file_params, replace_abbrv=False\n",
    ").process_experiment_elog_parameters()\n",
    "# kwe_param = KeywordExplorer.from_config(conf_file_params)\n",
    "# kwe_param.save_keywords_to_file('param_kws1')"
   ]
  },
  {
   "cell_type": "code",
   "execution_count": null,
   "id": "5d67e75a",
   "metadata": {},
   "outputs": [],
   "source": [
    "## Elogs and experiment parameters REPLACEMENT\n",
    "conf_file_params = conf_dir / \"slac_config_params.json\"\n",
    "SLACDatabaseDataExtractor(\n",
    "    conf_file_params, replace_abbrv=True\n",
    ").process_experiment_elog_parameters()\n",
    "# kwe_param = KeywordExplorer.from_config(conf_file_params)\n",
    "# kwe_param.save_keywords_to_file('acronym_param_kws1')"
   ]
  },
  {
   "cell_type": "code",
   "execution_count": null,
   "id": "b5946bff",
   "metadata": {},
   "outputs": [],
   "source": [
    "# *# Only elogs that are misc. commentary NO REPLACEMENT\n",
    "conf_file_commentary = conf_dir / \"slac_config_commentary.json\"\n",
    "SLACDatabaseDataExtractor(\n",
    "    conf_file_commentary, replace_abbrv=False\n",
    ").process_experiment_elog_commentary()\n",
    "# kwe_comment = KeywordExplorer.from_config(conf_file_commentary)\n",
    "# kwe_comment.save_keywords_to_file('commentary_kws1')"
   ]
  },
  {
   "cell_type": "code",
   "execution_count": null,
   "id": "73ebe0cb",
   "metadata": {},
   "outputs": [],
   "source": [
    "# *# Only elogs that are misc. commentary REPLACEMENT\n",
    "conf_file_commentary = conf_dir / \"slac_config_commentary.json\"\n",
    "SLACDatabaseDataExtractor(\n",
    "    conf_file_commentary, replace_abbrv=True\n",
    ").process_experiment_elog_commentary()\n",
    "# kwe_comment = KeywordExplorer.from_config(conf_file_commentary)\n",
    "# kwe_comment.save_keywords_to_file('acronym_commentary_kws1')"
   ]
  },
  {
   "cell_type": "code",
   "execution_count": null,
   "id": "5640d437",
   "metadata": {},
   "outputs": [],
   "source": []
  },
  {
   "cell_type": "markdown",
   "id": "d6f39fd5",
   "metadata": {},
   "source": [
    "## Get KW Diffs"
   ]
  },
  {
   "cell_type": "code",
   "execution_count": null,
   "id": "c250bf6f",
   "metadata": {},
   "outputs": [],
   "source": [
    "import pandas as pd\n",
    "import matplotlib.pyplot as plt\n",
    "from matplotlib_venn import venn2\n",
    "\n",
    "\n",
    "def diff(csv_acronym, csv_default, csv_acryonyms_found):\n",
    "    df_a = pd.read_csv(csv_acronym)\n",
    "    df_b = pd.read_csv(csv_default)\n",
    "    df_c = pd.read_csv(csv_acryonyms_found)\n",
    "\n",
    "    merged = pd.merge(\n",
    "        df_a[[\"experiment_name\", \"predicted\"]],\n",
    "        df_b[[\"experiment_name\", \"predicted\"]],\n",
    "        on=\"experiment_name\",\n",
    "        suffixes=(\"_replacement\", \"_default\"),\n",
    "    )\n",
    "\n",
    "    merged = pd.merge(\n",
    "        merged[[\"experiment_name\", \"predicted_replacement\", \"predicted_default\"]],\n",
    "        df_c[[\"experiment_name\", \"acronyms\"]],\n",
    "        on=\"experiment_name\",\n",
    "    )\n",
    "\n",
    "    def to_set(value):\n",
    "        if pd.isna(value):\n",
    "            return set()\n",
    "        value = value.replace(\"'\", \"\")\n",
    "\n",
    "        value = value.replace(\"[\", \"\")\n",
    "        value = value.replace(\"]\", \"\")\n",
    "        split_list = str(value).split(\",\") if \",\" in str(value) else {str(value)}\n",
    "        split_list_clean = [value.rstrip().lstrip() for value in split_list]\n",
    "        return set(split_list_clean)\n",
    "\n",
    "    # Apply set operations\n",
    "    results = []\n",
    "    for _, row in merged.iterrows():\n",
    "        set_a = to_set(row[\"predicted_replacement\"])\n",
    "        set_b = to_set(row[\"predicted_default\"])\n",
    "\n",
    "        results.append(\n",
    "            {\n",
    "                \"experiment_name\": row[\"experiment_name\"],\n",
    "                \"all keywords without acronym expansion\": \", \".join(set_b),\n",
    "                \"all keywords with acronyms expansion\": \", \".join(set_a),\n",
    "                \"common keywords\": \", \".join(set_a & set_b),\n",
    "                \"acronym repacement unique keywords\": \", \".join(set_a - set_b),\n",
    "                \"without acronym replacement unique keywords\": \", \".join(set_b - set_a),\n",
    "                \"acronyms replaced\": row[\"acronyms\"],\n",
    "            }\n",
    "        )\n",
    "\n",
    "    # Create output dataframe\n",
    "    output_df = pd.DataFrame(results)\n",
    "    return output_df"
   ]
  },
  {
   "cell_type": "code",
   "execution_count": null,
   "id": "41badd61",
   "metadata": {},
   "outputs": [],
   "source": [
    "comment_diff = diff(\n",
    "    \"../private_data/results/acronym_commentary_kws1.csv\",\n",
    "    \"../private_data/results/commentary_kws1.csv\",\n",
    "    \"../private_data/commentary/replaced_abbrv2.csv\",\n",
    ")\n",
    "comment_diff.to_csv(\"../private_data/results/comparison_commentary.csv\", index=False)"
   ]
  },
  {
   "cell_type": "code",
   "execution_count": null,
   "id": "f7a297d6",
   "metadata": {},
   "outputs": [],
   "source": [
    "comment_diff = diff(\n",
    "    \"../private_data/results/acronym_description_kws1.csv\",\n",
    "    \"../private_data/results/description_kws1.csv\",\n",
    "    \"../private_data/descriptions/replaced_abbrv2.csv\",\n",
    ")\n",
    "comment_diff.to_csv(\"../private_data/results/comparison_description.csv\", index=False)"
   ]
  },
  {
   "cell_type": "code",
   "execution_count": null,
   "id": "2ea57a33",
   "metadata": {},
   "outputs": [],
   "source": [
    "comment_diff = diff(\n",
    "    \"../private_data/results/acronym_param_kws1.csv\",\n",
    "    \"../private_data/results/param_kws1.csv\",\n",
    "    \"../private_data/params/replaced_abbrv2.csv\",\n",
    ")\n",
    "comment_diff.to_csv(\"../private_data/results/comparison_params.csv\", index=False)"
   ]
  },
  {
   "cell_type": "code",
   "execution_count": null,
   "id": "efedb304",
   "metadata": {},
   "outputs": [],
   "source": []
  },
  {
   "cell_type": "code",
   "execution_count": null,
   "id": "5dda8e6d",
   "metadata": {},
   "outputs": [],
   "source": []
  },
  {
   "cell_type": "code",
   "execution_count": null,
   "id": "6108e0b0",
   "metadata": {},
   "outputs": [],
   "source": []
  },
  {
   "cell_type": "code",
   "execution_count": null,
   "id": "7f5d6748",
   "metadata": {},
   "outputs": [],
   "source": []
  },
  {
   "cell_type": "code",
   "execution_count": null,
   "id": "c09c8596",
   "metadata": {},
   "outputs": [],
   "source": []
  },
  {
   "cell_type": "code",
   "execution_count": null,
   "id": "b4e0c98d",
   "metadata": {},
   "outputs": [],
   "source": []
  },
  {
   "cell_type": "code",
   "execution_count": null,
   "id": "32705fbf",
   "metadata": {},
   "outputs": [],
   "source": []
  }
 ],
 "metadata": {
  "kernelspec": {
   "display_name": "scisearch",
   "language": "python",
   "name": "python3"
  },
  "language_info": {
   "codemirror_mode": {
    "name": "ipython",
    "version": 3
   },
   "file_extension": ".py",
   "mimetype": "text/x-python",
   "name": "python",
   "nbconvert_exporter": "python",
   "pygments_lexer": "ipython3",
   "version": "3.10.16"
  }
 },
 "nbformat": 4,
 "nbformat_minor": 5
}
