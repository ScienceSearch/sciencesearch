{
 "cells": [
  {
   "cell_type": "markdown",
   "id": "57515761",
   "metadata": {},
   "source": [
    "# Keyword Extraction: Impact of Abbreviation Expansion\n",
    "\n",
    "This notebook demonstrates how expanding abbreviations affects keyword extraction results. We'll compare keywords extracted from the same documents with and without abbreviation expansion across multiple experiments.\n",
    "\n",
    "For more information about ScienceSearch, see also:\n",
    "- [sciencesearch Github repository](https://github.com/ScienceSearch/sciencesearch).\n",
    "- AI-generated [documentation pages](https://deepwiki.com/ScienceSearch/sciencesearch/1-overview).\n",
    "\n",
    "## Prerequisites\n",
    "- A Python environment which includes ScienceSearch Python package `sciencesearch` (see [../README.md](../README.md))\n",
    "- A SLAC-generated SQLite database"
   ]
  },
  {
   "cell_type": "markdown",
   "id": "e5d21705",
   "metadata": {},
   "source": [
    "\n",
    "## Overview\n",
    "\n",
    "We will:\n",
    "1. Create utility functions to compare keyword sets\n",
    "2. Run keyword extraction experiments with and without abbreviation expansion\n",
    "3. Visualize the differences\n",
    "4. Analyze the impact of abbreviation expansion on keyword quality\n"
   ]
  },
  {
   "cell_type": "markdown",
   "id": "a0f9b40f",
   "metadata": {},
   "source": [
    "## Step 1: Setup\n",
    "\n",
    "### 1.1 Python imports and some logging setup"
   ]
  },
  {
   "cell_type": "code",
   "execution_count": null,
   "id": "808a9a8b",
   "metadata": {},
   "outputs": [],
   "source": [
    "# imports\n",
    "from pathlib import Path\n",
    "from sciencesearch.nlp.search import KeywordExplorer\n",
    "from sciencesearch.nlp.slac_data_extractor import SLACDatabaseDataExtractor\n",
    "from sciencesearch.nlp.keyword_comparator import KeywordComparator\n",
    "\n",
    "from IPython.core.display import HTML\n",
    "\n",
    "# logging setup\n",
    "import logging\n",
    "\n",
    "logging.root.setLevel(logging.ERROR)  # silence pke warnings\n",
    "slog = logging.getLogger(\"sciencesearch\")\n",
    "slog.setLevel(logging.WARNING)\n",
    "from pathlib import Path\n",
    "import json"
   ]
  },
  {
   "cell_type": "markdown",
   "id": "c1cdc200",
   "metadata": {},
   "source": [
    "## 1.2 Connect to config directory\n",
    "\n",
    "You also will need a configuration file specifying the algorithms, initial settings, and directory locations.\n",
    "\n",
    "We will generate keywords from 4 data sources\n",
    "* all elog content\n",
    "* experiment descriptions\n",
    "* elogs and experiment parameters\n",
    "* elogs that are labeled as misc. commentary"
   ]
  },
  {
   "cell_type": "code",
   "execution_count": null,
   "id": "6af8ae00",
   "metadata": {},
   "outputs": [],
   "source": [
    "conf_dir = Path(\".\") / \"config_files\"\n",
    "conf_dir.mkdir(exist_ok=True)"
   ]
  },
  {
   "cell_type": "markdown",
   "id": "dee35e11",
   "metadata": {},
   "source": [
    "## Step 2: Run keyword generation with and without abbreviation expansion\n",
    "\n",
    "### Generate Keywords "
   ]
  },
  {
   "cell_type": "markdown",
   "id": "0bdf9e8c",
   "metadata": {},
   "source": [
    "#### Experiment 1: all elog content \n"
   ]
  },
  {
   "cell_type": "code",
   "execution_count": null,
   "id": "3f5b50e7",
   "metadata": {},
   "outputs": [],
   "source": [
    "conf_file_elogs = conf_dir / \"slac_config_all_elogs.json\"\n",
    "if not conf_file_elogs.exists():\n",
    "    print(f\"Please create configuration file {conf_file_elogs.resolve()}\")\n",
    "\n",
    "## Experiment descriptions WITHOUT ABBREVIATION REPLACEMENT\n",
    "# initialize data extractor with attribute replace_abbrv = False\n",
    "SLACDatabaseDataExtractor(conf_file_elogs, replace_abbrv=False).process_elogs()\n",
    "\n",
    "# extract keywords and save to file\n",
    "kwe_elogs_norep = KeywordExplorer.from_config(conf_file_elogs)\n",
    "kwe_elogs_norep.save_keywords_to_file(\"elogs_keywords\")\n",
    "\n",
    "\n",
    "## Experiment descriptions WITH ABBREVIATION REPLACEMENT\n",
    "# initialize data extractor with attribute replace_abbrv = True\n",
    "SLACDatabaseDataExtractor(conf_file_elogs, replace_abbrv=True).process_elogs()\n",
    "\n",
    "# extract keywords and save to file\n",
    "kwe_elogs_rep = KeywordExplorer.from_config(conf_file_elogs)\n",
    "kwe_elogs_rep.save_keywords_to_file(\"acronym_expansion_elogs_keywords\")"
   ]
  },
  {
   "cell_type": "markdown",
   "id": "9972398f",
   "metadata": {},
   "source": [
    "#### Experiment 2: experiment descriptions"
   ]
  },
  {
   "cell_type": "code",
   "execution_count": null,
   "id": "3b102647",
   "metadata": {},
   "outputs": [],
   "source": [
    "conf_file_descriptions = conf_dir / \"slac_config_descriptions.json\"\n",
    "if not conf_file_descriptions.exists():\n",
    "    print(f\"Please create configuration file {conf_file_descriptions.resolve()}\")\n",
    "SLACDatabaseDataExtractor(conf_file_descriptions).process_experiment_descriptions()\n",
    "\n",
    "## Experiment descriptions WITHOUT ABBREVIATION REPLACEMENT\n",
    "# initialize data extractor with attribute replace_abbrv = False\n",
    "SLACDatabaseDataExtractor(\n",
    "    conf_file_descriptions, replace_abbrv=False\n",
    ").process_experiment_descriptions()\n",
    "\n",
    "# extract keywords and save to file\n",
    "kwe_des_norep = KeywordExplorer.from_config(conf_file_descriptions)\n",
    "kwe_des_norep.save_keywords_to_file(\"description_keywords\")\n",
    "\n",
    "\n",
    "## Experiment descriptions WITH ABBREVIATION REPLACEMENT\n",
    "# initialize data extractor with attribute replace_abbrv = True\n",
    "SLACDatabaseDataExtractor(\n",
    "    conf_file_descriptions, replace_abbrv=True\n",
    ").process_experiment_descriptions()\n",
    "\n",
    "# extract keywords and save to file\n",
    "kwe_des_rep = KeywordExplorer.from_config(conf_file_descriptions)\n",
    "kwe_des_rep.save_keywords_to_file(\"acronym_expansion_description_keywords\")"
   ]
  },
  {
   "cell_type": "markdown",
   "id": "019018a5",
   "metadata": {},
   "source": [
    "#### Experiment 3: elogs of experiment parameters"
   ]
  },
  {
   "cell_type": "code",
   "execution_count": null,
   "id": "f086b4e6",
   "metadata": {},
   "outputs": [],
   "source": [
    "conf_file_params = conf_dir / \"slac_config_params.json\"\n",
    "if not conf_file_params.exists():\n",
    "    print(f\"Please create configuration file {conf_file_params.resolve()}\")\n",
    "\n",
    "\n",
    "## Elogs and experiment parameters WITHOUT ABBREVIATION REPLACEMENT\n",
    "# initialize data extractor with attribute replace_abbrv = False\n",
    "SLACDatabaseDataExtractor(\n",
    "    conf_file_params, replace_abbrv=False\n",
    ").process_experiment_elog_parameters()\n",
    "\n",
    "# extract keywords and save to file\n",
    "kwe_param_norep = KeywordExplorer.from_config(conf_file_params)\n",
    "kwe_param_norep.save_keywords_to_file(\"params_keywords\")\n",
    "\n",
    "\n",
    "## Elogs and experiment parameters WITH ABBREVIATION REPLACEMENT\n",
    "# initialize data extractor with attribute replace_abbrv = True\n",
    "SLACDatabaseDataExtractor(\n",
    "    conf_file_params, replace_abbrv=True\n",
    ").process_experiment_elog_parameters()\n",
    "\n",
    "# extract keywords and save to file\n",
    "kwe_param_rep = KeywordExplorer.from_config(conf_file_params)\n",
    "kwe_param_rep.save_keywords_to_file(\"acronym_expansion_params_keywords\")"
   ]
  },
  {
   "cell_type": "markdown",
   "id": "0dc2cbbb",
   "metadata": {},
   "source": [
    "#### Experiment 4: elogs that are labeled as misc. commentary"
   ]
  },
  {
   "cell_type": "code",
   "execution_count": null,
   "id": "e024cc8b",
   "metadata": {},
   "outputs": [],
   "source": [
    "conf_file_commentary = conf_dir / \"slac_config_commentary.json\"\n",
    "if not conf_file_commentary.exists():\n",
    "    print(f\"Please create configuration file {conf_file_commentary.resolve()}\")\n",
    "\n",
    "# Only elogs that are misc. commentary WITHOUT ABBREVIATION REPLACEMENT\n",
    "# initialize data extractor with attribute replace_abbrv = False\n",
    "SLACDatabaseDataExtractor(\n",
    "    conf_file_commentary, replace_abbrv=False\n",
    ").process_experiment_elog_commentary()\n",
    "\n",
    "# extract keywords and save to file\n",
    "kwe_comment_norep = KeywordExplorer.from_config(conf_file_commentary)\n",
    "kwe_comment_norep.save_keywords_to_file(\"commentary_keywords\")\n",
    "\n",
    "# Only elogs that are misc. commentary WITH ABBREVIATION REPLACEMENT\n",
    "# initialize data extractor with attribute replace_abbrv = True\n",
    "SLACDatabaseDataExtractor(\n",
    "    conf_file_commentary, replace_abbrv=True\n",
    ").process_experiment_elog_commentary()\n",
    "\n",
    "# extract keywords and save to file\n",
    "kwe_comment_rep = KeywordExplorer.from_config(conf_file_commentary)\n",
    "kwe_comment_rep.save_keywords_to_file(\"acronym_expansion_commentary_keywords\")"
   ]
  },
  {
   "cell_type": "markdown",
   "id": "1e4bc6c5",
   "metadata": {},
   "source": [
    "## 3. Example: Abbreviation Expansion Impact Analysis\n",
    "\n",
    "Now let's demonstrate this with a concrete example comparing keyword extraction with and without abbreviation expansion.\n",
    "\n",
    "### 3.1 Save Keyword Diffs\n",
    "\n",
    "Use `KeywordComparator` object to format and explore comparisons between two sets of keywords.\n",
    "Here the example is between the keywords with and without acronym/ abbreviation expansion. \n",
    "\n",
    "See similarity metrics of overlap score, jaccard similarity, and dice coefficient by adding argument similarity_metrics = True. Defaults to similarity_metrics = False"
   ]
  },
  {
   "cell_type": "code",
   "execution_count": null,
   "id": "6156c9ab",
   "metadata": {},
   "outputs": [],
   "source": [
    "# Initialize Comparator\n",
    "comparator = KeywordComparator()\n",
    "\n",
    "# Experiment 1: all elog content\n",
    "elog_diff = comparator.diff_acronyms(\n",
    "    \"../private_data/results/acronym_expansion_elogs_keywords.csv\",\n",
    "    \"../private_data/results/elogs_keywords.csv\",\n",
    "    \"../private_data/commentary/replaced_abbr_counter.csv\",\n",
    "    # similarity_metrics = True\n",
    ")\n",
    "# Save results\n",
    "elog_diff.to_csv(\"../private_data/results/comparison_all_elog.csv\", index=False)\n",
    "\n",
    "# Experiment 2: experiment descriptions\n",
    "description_diff = comparator.diff_acronyms(\n",
    "    \"../private_data/results/acronym_expansion_description_keywords.csv\",\n",
    "    \"../private_data/results/description_keywords.csv\",\n",
    "    \"../private_data/commentary/replaced_abbr_counter.csv\",\n",
    ")\n",
    "# Save results\n",
    "description_diff.to_csv(\n",
    "    \"../private_data/results/comparison_descriptions.csv\", index=False\n",
    ")\n",
    "\n",
    "# Experiment 3: elogs that are labeled as experiment parameters\n",
    "param_diff = comparator.diff_acronyms(\n",
    "    \"../private_data/results/acronym_expansion_params_keywords.csv\",\n",
    "    \"../private_data/results/params_keywords.csv\",\n",
    "    \"../private_data/commentary/replaced_abbr_counter.csv\",\n",
    ")\n",
    "# Save results\n",
    "param_diff.to_csv(\"../private_data/results/comparison_params.csv\", index=False)\n",
    "\n",
    "# Experiment 4: elogs that are labeled as misc. commentary\n",
    "comment_diff = comparator.diff_acronyms(\n",
    "    \"../private_data/results/acronym_expansion_commentary_keywords.csv\",\n",
    "    \"../private_data/results/commentary_keywords.csv\",\n",
    "    \"../private_data/commentary/replaced_abbr_counter.csv\",\n",
    ")\n",
    "# Save results\n",
    "comment_diff.to_csv(\"../private_data/results/comparison_commentary.csv\", index=False)"
   ]
  },
  {
   "cell_type": "markdown",
   "id": "33df1054",
   "metadata": {},
   "source": [
    "## 4. Visualization Functions"
   ]
  },
  {
   "cell_type": "code",
   "execution_count": null,
   "id": "5d67e75a",
   "metadata": {},
   "outputs": [],
   "source": [
    "## UNCOMMENT WHICH GRAPH YOU WOULD LIKE TO SEE\n",
    "\n",
    "\n",
    "# Experiment 1: all elog content\n",
    "# kwe_elogs_norep.export(format=\"graph\") # format options: \"graph\", \"excel\", \"json\"\n",
    "# kwe_elogs_rep.export(format=\"graph\") # format options: \"graph\", \"excel\", \"json\"\n",
    "\n",
    "# Experiment 2: experiment descriptions\n",
    "# kwe_des_norep.export(format=\"graph\") # format options: \"graph\", \"excel\", \"json\"\n",
    "# kwe_des_rep.export(format=\"graph\") # format options: \"graph\", \"excel\", \"json\"\n",
    "\n",
    "# Experiment 3: elogs that are labeled as experiment parameters\n",
    "kwe_param_norep.export(format=\"graph\")  # format options: \"graph\", \"excel\", \"json\"\n",
    "# kwe_param_rep.export(format=\"graph\") # format options: \"graph\", \"excel\", \"json\"\n",
    "\n",
    "# Experiment 4: elogs that are labeled as misc. commentary\n",
    "# kwe_comment_norep.export(format=\"graph\") # format options: \"graph\", \"excel\", \"json\"\n",
    "# kwe_comment_rep.export(format=\"graph\") # format options: \"graph\", \"excel\", \"json\""
   ]
  },
  {
   "cell_type": "code",
   "execution_count": null,
   "id": "d998f974",
   "metadata": {},
   "outputs": [],
   "source": []
  }
 ],
 "metadata": {
  "kernelspec": {
   "display_name": "scisearch",
   "language": "python",
   "name": "python3"
  },
  "language_info": {
   "codemirror_mode": {
    "name": "ipython",
    "version": 3
   },
   "file_extension": ".py",
   "mimetype": "text/x-python",
   "name": "python",
   "nbconvert_exporter": "python",
   "pygments_lexer": "ipython3",
   "version": "3.10.16"
  }
 },
 "nbformat": 4,
 "nbformat_minor": 5
}
