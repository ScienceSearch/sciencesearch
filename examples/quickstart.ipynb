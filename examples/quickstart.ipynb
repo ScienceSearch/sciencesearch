{
 "cells": [
  {
   "cell_type": "markdown",
   "id": "6c9efc13",
   "metadata": {},
   "source": [
    "## __Quickstart__\n",
    "\n",
    "Start extracting keywords in 3 simple steps"
   ]
  },
  {
   "cell_type": "markdown",
   "id": "ee291d99",
   "metadata": {},
   "source": [
    "#### Step 1: Initialize and Extract Keywords\n",
    "This KeywordExplorer object will train the model and generate keywords"
   ]
  },
  {
   "cell_type": "code",
   "execution_count": 1,
   "id": "ea3771b8",
   "metadata": {},
   "outputs": [],
   "source": [
    "from sciencesearch.nlp.search import KeywordExplorer\n",
    "from sciencesearch.nlp.slac_data_extractor import SLACDatabaseDataExtractor\n",
    "\n",
    "# TODO: Set configuration filepath\n",
    "config_fp = \"config_files/slac_config_descriptions.json\"\n",
    "\n",
    "# Generate preprocessed input data\n",
    "\n",
    "data_extractor = SLACDatabaseDataExtractor(config_file=config_fp)\n",
    "data_extractor.process_experiment_descriptions()\n",
    "\n",
    "# Load configuration and process documents\n",
    "keyword_explorer = KeywordExplorer.from_config(config_fp)"
   ]
  },
  {
   "cell_type": "markdown",
   "id": "9fe28da0",
   "metadata": {},
   "source": [
    "#### Step 2: View extracted and training keywords for each file"
   ]
  },
  {
   "cell_type": "code",
   "execution_count": null,
   "id": "851ca316",
   "metadata": {},
   "outputs": [],
   "source": [
    "# View extracted keywords for each file\n",
    "predicted_keywords = keyword_explorer.predicted_keywords\n",
    "\n",
    "for f, k in predicted_keywords.items():\n",
    "    print(f\"{f} => {', '.join(k)}\\n\")"
   ]
  },
  {
   "cell_type": "markdown",
   "id": "1798277f",
   "metadata": {},
   "source": [
    "#### Step 3: Search for documents containing specific keywords "
   ]
  },
  {
   "cell_type": "code",
   "execution_count": null,
   "id": "909933bb",
   "metadata": {},
   "outputs": [],
   "source": [
    "# TODO: Define keyword to search for\n",
    "results = keyword_explorer.find(\"x-ray\")\n",
    "print(f\"Found in documents: {results}\")"
   ]
  },
  {
   "cell_type": "markdown",
   "id": "dd83eb86",
   "metadata": {},
   "source": [
    "#### Step 4: Visualize keywords in context"
   ]
  },
  {
   "cell_type": "code",
   "execution_count": null,
   "id": "4adb1b1a",
   "metadata": {},
   "outputs": [],
   "source": [
    "from IPython.core.display import HTML\n",
    "\n",
    "# View keywords in context of text logs (single file)\n",
    "# TODO: Set file name to {experiment_id}.txt\n",
    "filename = \"mfxl1015222.txt\"\n",
    "HTML(\n",
    "    keyword_explorer.view_keywords(\n",
    "        show_training=False, show_predicted=True, textfilename=filename\n",
    "    )\n",
    ")"
   ]
  },
  {
   "cell_type": "code",
   "execution_count": null,
   "id": "ca6591c7",
   "metadata": {},
   "outputs": [],
   "source": []
  }
 ],
 "metadata": {
  "kernelspec": {
   "display_name": "scisearch",
   "language": "python",
   "name": "scisearch"
  },
  "language_info": {
   "codemirror_mode": {
    "name": "ipython",
    "version": 3
   },
   "file_extension": ".py",
   "mimetype": "text/x-python",
   "name": "python",
   "nbconvert_exporter": "python",
   "pygments_lexer": "ipython3",
   "version": "3.10.16"
  }
 },
 "nbformat": 4,
 "nbformat_minor": 5
}
