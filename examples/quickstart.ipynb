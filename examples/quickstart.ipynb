{
 "cells": [
  {
   "cell_type": "markdown",
   "id": "6c9efc13",
   "metadata": {},
   "source": [
    "## __Quickstart__\n",
    "\n",
    "Start extracting keywords in 4 simple steps"
   ]
  },
  {
   "cell_type": "markdown",
   "id": "4d9cebea",
   "metadata": {},
   "source": [
    "#### Step 0: Add Private Data Directory \n",
    "Add your private data to the repository before running keyword extraction. The private data folder includes data, training, and other SLAC specific information.\n",
    "\n",
    "1. Import and unzip `private_data` into root folder"
   ]
  },
  {
   "cell_type": "code",
   "execution_count": null,
   "id": "e18d5d4b",
   "metadata": {},
   "outputs": [],
   "source": [
    "from pathlib import Path\n",
    "import zipfile as zf\n",
    "import os\n",
    "\n",
    "# create private data directory\n",
    "\n",
    "# use starter folder\n",
    "p_zip = Path(\n",
    "    \"../private_data_starter.zip\"\n",
    ")  # assume this notebook is run from the `examples/` subdirectory\n",
    "\n",
    "p_folder = Path(\n",
    "    \"../private_data\"\n",
    ")  # assume this notebook is run from the `examples/` subdirectory\n",
    "\n",
    "# Unzip example private data if it exists and existing private data folder does not exist\n",
    "if not p_folder.exists() and p_zip.exists():\n",
    "    with zf.ZipFile(\"../private_data_starter.zip\", \"r\") as files:\n",
    "        for file in files.namelist():\n",
    "            if not file.startswith(\"__MACOSX\"):\n",
    "                files.extract(file, \"../\")\n",
    "    print(\"Starter private data folder is unzipped and ready\")\n",
    "# Create private_data folder from scratch if starter does not exist\n",
    "elif not p_zip.exists() and not p_folder.exists():\n",
    "    p_folder.mkdir(exist_ok=True)\n",
    "    print(\n",
    "        \"Please populate private_data directory. For more details on creating this directory, see slac_search_demo.ipynb\"\n",
    "    )"
   ]
  },
  {
   "cell_type": "markdown",
   "id": "ee291d99",
   "metadata": {},
   "source": [
    "#### Step 1: Initialize and Extract Keywords\n",
    "This KeywordExplorer object will train the model and generate keywords"
   ]
  },
  {
   "cell_type": "code",
   "execution_count": null,
   "id": "ea3771b8",
   "metadata": {},
   "outputs": [],
   "source": [
    "from sciencesearch.nlp.search import KeywordExplorer\n",
    "from sciencesearch.nlp.slac_data_extractor import SLACDatabaseDataExtractor\n",
    "\n",
    "# TODO: Set configuration filepath\n",
    "config_fp = \"config_files/slac_config_descriptions.json\"\n",
    "\n",
    "# Generate preprocessed input data\n",
    "\n",
    "data_extractor = SLACDatabaseDataExtractor(config_file=config_fp)\n",
    "data_extractor.process_experiment_descriptions()\n",
    "\n",
    "\n",
    "# Load configuration and process documents\n",
    "keyword_explorer = KeywordExplorer.from_config(config_fp)"
   ]
  },
  {
   "cell_type": "markdown",
   "id": "9fe28da0",
   "metadata": {},
   "source": [
    "#### Step 2: View extracted and training keywords for each file"
   ]
  },
  {
   "cell_type": "code",
   "execution_count": null,
   "id": "851ca316",
   "metadata": {},
   "outputs": [],
   "source": [
    "# View extracted keywords for each file\n",
    "predicted_keywords = keyword_explorer.predicted_keywords\n",
    "\n",
    "for f, k in predicted_keywords.items():\n",
    "    print(f\"{f} => {', '.join(k)}\\n\")"
   ]
  },
  {
   "cell_type": "markdown",
   "id": "1798277f",
   "metadata": {},
   "source": [
    "#### Step 3: Search for documents containing specific keywords "
   ]
  },
  {
   "cell_type": "code",
   "execution_count": null,
   "id": "909933bb",
   "metadata": {},
   "outputs": [],
   "source": [
    "# TODO: Define keyword to search for\n",
    "results = keyword_explorer.find(\"x-ray\")\n",
    "print(f\"Found in documents: {results}\")"
   ]
  },
  {
   "cell_type": "markdown",
   "id": "dd83eb86",
   "metadata": {},
   "source": [
    "#### Step 4: Visualize keywords"
   ]
  },
  {
   "cell_type": "markdown",
   "id": "1e0240d9",
   "metadata": {},
   "source": [
    "Graph keywords "
   ]
  },
  {
   "cell_type": "code",
   "execution_count": null,
   "id": "2ffbe6bb",
   "metadata": {},
   "outputs": [],
   "source": [
    "keyword_explorer.export(format=\"graph\")"
   ]
  },
  {
   "cell_type": "markdown",
   "id": "4651648a",
   "metadata": {},
   "source": [
    "Visualize keywords in context of the input files"
   ]
  },
  {
   "cell_type": "code",
   "execution_count": null,
   "id": "4adb1b1a",
   "metadata": {},
   "outputs": [],
   "source": [
    "from IPython.core.display import HTML\n",
    "\n",
    "# View keywords in context of text logs (single file)\n",
    "# TODO: Set file name to {experiment_id}.txt\n",
    "filename = \"mfxl1015222.txt\"\n",
    "HTML(\n",
    "    keyword_explorer.view_keywords(\n",
    "        show_training=False, show_predicted=True, textfilename=filename\n",
    "    )\n",
    ")"
   ]
  }
 ],
 "metadata": {
  "kernelspec": {
   "display_name": "scisearch",
   "language": "python",
   "name": "python3"
  },
  "language_info": {
   "codemirror_mode": {
    "name": "ipython",
    "version": 3
   },
   "file_extension": ".py",
   "mimetype": "text/x-python",
   "name": "python",
   "nbconvert_exporter": "python",
   "pygments_lexer": "ipython3",
   "version": "3.10.16"
  }
 },
 "nbformat": 4,
 "nbformat_minor": 5
}
