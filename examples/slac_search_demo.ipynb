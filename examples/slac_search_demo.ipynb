{
 "cells": [
  {
   "cell_type": "markdown",
   "id": "191c5016",
   "metadata": {},
   "source": [
    "# ScienceSearch NLP Keywords with Visualization and Saving Results Example\n"
   ]
  },
  {
   "cell_type": "markdown",
   "id": "f470daf6",
   "metadata": {},
   "source": [
    "## Import modules\n",
    "Import modules and set up logging"
   ]
  },
  {
   "cell_type": "code",
   "execution_count": null,
   "id": "a82af33a",
   "metadata": {},
   "outputs": [],
   "source": [
    "# imports\n",
    "from pathlib import Path\n",
    "from sciencesearch.nlp.hyper import Hyper, algorithms_from_results\n",
    "from sciencesearch.nlp.sweep import Sweep\n",
    "from sciencesearch.nlp.models import Rake, Yake, KPMiner, Ensemble\n",
    "from sciencesearch.nlp.train import train_hyper, load_hyper, run_hyper\n",
    "from sciencesearch.nlp.search import Searcher\n",
    "from operator import attrgetter\n",
    "from IPython.core.display import HTML\n",
    "\n",
    "# logging\n",
    "import logging\n",
    "\n",
    "logging.root.setLevel(logging.ERROR)  # silence pke warnings\n",
    "slog = logging.getLogger(\"sciencesearch\")\n",
    "slog.setLevel(logging.WARNING)\n",
    "from sciencesearch.nlp.visualize_kws import JsonView\n",
    "from pathlib import Path"
   ]
  },
  {
   "cell_type": "markdown",
   "id": "d236dc56",
   "metadata": {},
   "source": [
    "## Train and run models\n",
    "In this example, we pick the 'best' result for each algorithm by training on two files with some user-provided keywords.\n",
    "Then we extract keywords from a third file using the trained model.\n",
    "\n",
    "Using a searcher which will read in training data from a search configuration, select the best model's keywords. \n",
    "We save the results of the hyperparameter training in a serialize Python \"pickle\" file so we don't need to repeat the training.\n",
    "We could run the same hyperparameters on multiple files without retraining with `run_hyper()`"
   ]
  },
  {
   "cell_type": "code",
   "execution_count": null,
   "id": "47b5e49d",
   "metadata": {},
   "outputs": [],
   "source": [
    "# TODO: Enter filepath to your configuration\n",
    "config_fp = \"slac_config.json\"\n",
    "\n",
    "# TODO: If you would like to re-train the model, delete `private_data/slac_logs/slac_hyper.pkl`\n",
    "\n",
    "# Create a Searcher object from the configuration\n",
    "slac_searcher = Searcher.from_config(config_file=config_fp)"
   ]
  },
  {
   "cell_type": "markdown",
   "id": "62e6ab34",
   "metadata": {},
   "source": [
    "### With Searcher object, search for all files that have a certain keyword"
   ]
  },
  {
   "cell_type": "code",
   "execution_count": null,
   "id": "98408751",
   "metadata": {},
   "outputs": [],
   "source": [
    "# find all files that have a keyword\n",
    "keyword = \"test\"\n",
    "slac_searcher.find(keyword)"
   ]
  },
  {
   "cell_type": "code",
   "execution_count": null,
   "id": "b5c1e659-960d-42cc-ad55-f6d9d7f99eaa",
   "metadata": {},
   "outputs": [],
   "source": [
    "# see all file keywords (predicted and training)\n",
    "# slac_searcher.file_keywords\n",
    "\n",
    "# see all predicted keywords\n",
    "# slac_searcher.predicted_keywords\n",
    "\n",
    "# see training keywords\n",
    "# slac_searcher.training_keywords\n",
    "\n",
    "# see separated training keywords and predicted keywords\n",
    "# slac_searcher.training_and_predicted_keywords()"
   ]
  },
  {
   "cell_type": "code",
   "execution_count": null,
   "id": "c5c245e3-41ba-4828-9853-8410dcd5c5fc",
   "metadata": {},
   "outputs": [],
   "source": [
    "# view keywords in context of text logs (single file)\n",
    "filename = \"test.txt\"\n",
    "HTML(\n",
    "    slac_searcher.view_keywords(\n",
    "        show_training=True, show_predicted=True, textfilename=filename\n",
    "    )\n",
    ")"
   ]
  },
  {
   "cell_type": "code",
   "execution_count": null,
   "id": "1ef041bd",
   "metadata": {
    "collapsed": true,
    "jupyter": {
     "outputs_hidden": true
    }
   },
   "outputs": [],
   "source": [
    "from IPython.core.display import HTML\n",
    "\n",
    "# view keywords in context of text logs (all files)\n",
    "HTML(\n",
    "    slac_searcher.view_keywords(\n",
    "        show_training=True, show_predicted=True, textfilename=None\n",
    "    )\n",
    ")"
   ]
  }
 ],
 "metadata": {
  "kernelspec": {
   "display_name": "scisearch",
   "language": "python",
   "name": "python3"
  },
  "language_info": {
   "codemirror_mode": {
    "name": "ipython",
    "version": 3
   },
   "file_extension": ".py",
   "mimetype": "text/x-python",
   "name": "python",
   "nbconvert_exporter": "python",
   "pygments_lexer": "ipython3",
   "version": "3.10.16"
  }
 },
 "nbformat": 4,
 "nbformat_minor": 5
}
