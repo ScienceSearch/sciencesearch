{
 "cells": [
  {
   "cell_type": "markdown",
   "id": "57515761",
   "metadata": {},
   "source": [
    "# Extract keywords from SLAC experiment logs\n",
    "\n",
    "This example notebook will demonstrate how to configure and run the ScienceSearch Python tools for keyword extraction.\n",
    "\n",
    "For more information about ScienceSearch, see also:\n",
    "- [sciencesearch Github repository](https://github.com/ScienceSearch/sciencesearch).\n",
    "- AI-generated [documentation pages](https://deepwiki.com/ScienceSearch/sciencesearch/1-overview).\n",
    "\n",
    "## Prerequisites\n",
    "- A Python environment which includes ScienceSearch Python package `sciencesearch` (see [../README.md](../README.md))\n",
    "- A SLAC-generated SQLite database"
   ]
  },
  {
   "cell_type": "markdown",
   "id": "a0f9b40f",
   "metadata": {},
   "source": [
    "## Setup\n",
    "Python imports and some logging setup"
   ]
  },
  {
   "cell_type": "code",
   "execution_count": 2,
   "id": "808a9a8b",
   "metadata": {},
   "outputs": [],
   "source": [
    "# imports\n",
    "from pathlib import Path\n",
    "from sciencesearch.nlp.search import KeywordExplorer\n",
    "from sciencesearch.nlp.slac_data_extractor import SLACDatabaseDataExtractor\n",
    "from IPython.core.display import HTML\n",
    "\n",
    "# logging setup\n",
    "import logging\n",
    "\n",
    "logging.root.setLevel(logging.ERROR)  # silence pke warnings\n",
    "slog = logging.getLogger(\"sciencesearch\")\n",
    "slog.setLevel(logging.WARNING)\n",
    "from sciencesearch.nlp.visualize_kws import JsonView\n",
    "from pathlib import Path"
   ]
  },
  {
   "cell_type": "markdown",
   "id": "831dfdc3",
   "metadata": {},
   "source": [
    "## Initialize source database\n",
    "Before you can run the algorithms, you need to copy your SLAC-generated database into a file called \"simplified_elog.db\" in the \"private_data\" directory.\n",
    "\n",
    "The database must have the _logbook_ and _experiments_ tables."
   ]
  },
  {
   "cell_type": "code",
   "execution_count": 3,
   "id": "3eae0b3f-3327-4290-85ed-84c1be7a9d32",
   "metadata": {},
   "outputs": [],
   "source": [
    "# create target directory\n",
    "p = Path(\"../private_data\") # assume this notebook is run from the `examples/` subdirectory\n",
    "p.mkdir(exist_ok=True)\n",
    "dbfile = 'simplified_elog.db'\n",
    "if not (p / dbfile).exists():\n",
    "    print(f\"Please copy database to:\\n{p.resolve() / dbfile}\")"
   ]
  },
  {
   "cell_type": "markdown",
   "id": "3c51a4a0",
   "metadata": {},
   "source": [
    "## Initialize configuration file\n",
    "You also will need a configuration file specifying the algorithms, initial settings, and directory locations.\n",
    "For the initial run, which uses all the elogs, this file will be in the \"config_files\" directory and be named \"slac_config_all_elogs.json\"."
   ]
  },
  {
   "cell_type": "code",
   "execution_count": 4,
   "id": "91b48edb",
   "metadata": {},
   "outputs": [],
   "source": [
    "conf_dir = Path(\".\") / \"config_files\"\n",
    "conf_dir.mkdir(exist_ok=True)\n",
    "conf_file = conf_dir / \"slac_config_all_elogs.json\"\n",
    "if not conf_file.exists():\n",
    "    print(f\"Please create configuration file {conf_file.resolve()}\")"
   ]
  },
  {
   "cell_type": "markdown",
   "id": "1123f706-c6ad-479c-93b6-2519f642d2bf",
   "metadata": {},
   "source": [
    "## Extract keywords from elogs\n",
    "Using the provided configuration file, we will tell ScienceSearch to perform the following steps:\n",
    "1. Load data from the database using the `SlacDatabaseDataExtractor` class\n",
    "2. Call the appropriate method on this class to preprocess the data to remove non-technical words, HTML tags, etc.\n",
    "3. Using the `KeywordExplorer` class, choose the 'best' keyword extraction based on a comparison with training data and extract keywords"
   ]
  },
  {
   "cell_type": "code",
   "execution_count": null,
   "id": "68720a95-ac98-49a2-bffb-2d3c0418fda6",
   "metadata": {},
   "outputs": [
    {
     "name": "stdout",
     "output_type": "stream",
     "text": [
      "Load and preprocess data\n",
      "Extracting keywords - this may take a minute or two\n"
     ]
    }
   ],
   "source": [
    "# create data preprocessing class\n",
    "data_extractor = SLACDatabaseDataExtractor(conf_file)\n",
    "# load and preprocess data\n",
    "print(\"Load and preprocess data\")\n",
    "data_extractor.process_elogs()\n",
    "# choose keyword parameters and extract keywords\n",
    "print(\"Extracting keywords - this may take a minute or two\")\n",
    "kwe = KeywordExplorer.from_config(conf_file)"
   ]
  },
  {
   "cell_type": "code",
   "execution_count": 10,
   "id": "084e04a4-0d92-467d-a19f-ffba62a6a2ca",
   "metadata": {},
   "outputs": [
    {
     "name": "stdout",
     "output_type": "stream",
     "text": [
      "mfxx1013123.txt => scan, run number running, slits, dg2, run number, attenuation, beam\n",
      "mfxx1017223.txt => codi, aspiration, rot, nozzle timing, timing delay, dark, nozzle\n",
      "tmoc00122.txt => mr2k4 bender, mr2k4, bender, yag, zone plate, mr3k4, beam\n",
      "mfxp1003323.txt => motors, yag, scanning, mfx, windows, beam, dark\n",
      "mfxx1006522.txt => inline, inline alvium, lib, motor, lens, alvium, mfx\n",
      "mfxl1048022.txt => run number running, run ended prematurely, number running, prematurely, ended prematurely, run ended, run number\n",
      "mfxx1006622.txt => dark dark, focal length, mms, laser, alvium, mfx, dark\n",
      "tmol1030922.txt => lxt, scan, ttc, lxt ttc, device position, lens, pos\n",
      "mfxp1002722.txt => pbp2a running pbp2a, pbp2a running, pbp2a, running pbp2a running, fpr, running pbp2a running pbp2a, running pbp2a\n",
      "mfxx1013623.txt => run number running, motors, run, run number, number running, tfs, beam\n",
      "mfxl1028222.txt => dark running, mi41, running mi41, beam, dark, running, nozzle\n",
      "mfxx1010522.txt => motors, checkout, slit, dg2, laser, mfx, beamline checkout\n",
      "mfxl1015522.txt => run number running, water, run, number running, run number running water, run number, dark\n",
      "mfxl1032222.txt => dark running, t0ns running sample, dark running sample, t0ns, running sample, sample, t0ns running\n",
      "mfxl1015222.txt => mixing, running pfich nomix, pfich, running pfich, nomix, ns running pfich, ns running\n",
      "mfxl1049022.txt => dark\n",
      "mfxl1027922.txt => lxt, scan, run number running, att, run, number running, run number\n",
      "tmox1016823.txt => paddle, back, needle, yag, needle position, sample paddle, sq1\n",
      "mfxl1019822.txt => run number running, evo pulse, laser, opo, shutters, evo, run number\n",
      "mfxp1003023.txt => scan, snake, kev, mfx, chip, snake axes, beam\n",
      "mfxp1002922.txt => mocha, running glu mocha, glu, mgml, running glu, notch, glu mocha\n",
      "mfxx1005922.txt => dg1, yag, alignment, hera, lenes, mfx, beam\n",
      "tmox1009623.txt => lxt, scan, scan exited, step scan, events step scan exited, events step scan, events step\n",
      "mfxl1025422.txt => running running, hit rate, running switched, running, sample, buffer, running running running\n",
      "mfxp1000922.txt => power measurements, power, measurements, laser, topas, laser power, laser power measurements\n",
      "mfxx1012122.txt => motors, timetool, spectrometer, elog, change experiments, atm motors, atm\n",
      "mfxl1039823.txt => snake, run type grid fly, fly, top-left, run type, run type grid, chip\n",
      "tmol1043723.txt => scan, ejx, tip, lens, mcp, atm, oap\n",
      "mfxl1029722.txt => run number running, number running mmo, laser, number running, mmo, run number, run number running mmo\n",
      "tmoc00123.txt => mrco hsds, hsds, back, mrco, laser, tof, piranha\n",
      "mfxl1045123.txt => run number running, motors, beam, run, number running, limit switch, run number\n",
      "tmox1009422.txt => unpointed, im3k4, im5k4, sl1k4, mcp, sl2k0, beam\n",
      "mfxl1047723.txt => kev, dist, det dist, mfx, xlj fast, xlj, det\n",
      "mfxp1004423.txt => febmb, run number running, run ended prematurely, number running, prematurely, run ended, run number\n",
      "mfxx1010622.txt => slits, misaligned, dg2, lens, crystal, beam, dark\n",
      "mfxl1001622.txt => running pame, pame running, running pame running pame, pame, soaked, running pame running, pame running pame\n",
      "mfxl1047922.txt => dark\n",
      "mfxl1033223.txt => run number running, run number running run, running run, number running, running run number running, running run number, run number\n",
      "mfxdet23.txt => lead tape, pin, lead tape pin, hole, tape, lead tape pin hole, lead tape pin hole move\n",
      "mfxl1027522.txt => x-rays, optical laser, laser, optical, runs, beam, dark\n",
      "mfxp1002323.txt => scan, axes, snake, scan sequencer, evr, snake axes, ioc\n",
      "slac_log_test.txt => diluted, ludicrous, jet, transmission, xtals, sample, shooting, hit, protein, diffraction\n",
      "mfxl1035323.txt => laser, opo, shutters, evo fiber, evo, run number, fiber\n",
      "tmol1034523.txt => scan, scan exited, step scan, events step scan exited, events step scan, events step, step scan exited\n",
      "mfxl1028322.txt => lox, stable lox fly, stable lox, fly, running stable lox, lox fly, running stable\n",
      "mfxl1038923.txt => snake, run type grid fly scan, run type grid fly, type grid, top-left, run type, run type grid\n",
      "mfxl1038723.txt => run number running, xtcav, foil, number running, crystal, run number, dark\n",
      "tmox1019023.txt => scan, ppm, scan exit, im5k4, ppm data, status success, opr\n",
      "tmol1045823.txt => scan, scan exited, step scan, events step scan exited, events step scan, events step, step scan exited\n"
     ]
    }
   ],
   "source": [
    "# show file keywords\n",
    "print(\"\\n\".join([f\"{k} => {', '.join(v)}\" for k,v in kwe.file_keywords.items()]))"
   ]
  },
  {
   "cell_type": "markdown",
   "id": "a3f6e825-623d-4c39-ab38-f4f1bf4695eb",
   "metadata": {},
   "source": [
    "## Extract keywords from other sources\n",
    "In addition to elogs, we have written some variations of the process above to extract from:\n",
    "* experiment descriptions\n",
    "* elogs and experiment parameters\n",
    "* elogs that are labeled as misc. commentary\n",
    "\n",
    "These variations are coded into methods in the `SLACDatabaseDataExtractor` class. Distinct configuration files are used to keep the hyperparameters and output data cleanly separated.\n",
    "\n",
    "Uncomment the appropriate line below to run one of these other experiments.\n",
    "\n",
    "You will also need to make sure the corresponding directory and configuration file are created for these to run successfully."
   ]
  },
  {
   "cell_type": "code",
   "execution_count": 11,
   "id": "f9ae11f7",
   "metadata": {},
   "outputs": [],
   "source": [
    "# Uncomment ONE of the following sections\n",
    "\n",
    "## Experiment descriptions\n",
    "# conf_file =  conf_dir / \"slac_config_descriptions.json\"\n",
    "# SLACDatabaseDataExtractor(conf_file).process_experiment_descriptions()\n",
    "\n",
    "## Elogs and experiment parameters\n",
    "conf_file =  conf_dir / \"slac_config_params.json\"\n",
    "SLACDatabaseDataExtractor(conf_file).process_experiment_descriptions()\n",
    "\n",
    "## Only elogs that are misc. commentary\n",
    "# conf_file =  conf_dir / \"slac_config_commentary.json\"\n",
    "# SLACDatabaseDataExtractor(conf_file)d.process_experiment_descriptions()"
   ]
  },
  {
   "cell_type": "code",
   "execution_count": 12,
   "id": "4180b14b-131d-4926-bf25-afc09eb24cc6",
   "metadata": {},
   "outputs": [],
   "source": [
    "# Common: extract keywords with chosen algorithm\n",
    "kwe = KeywordExplorer.from_config(conf_file)"
   ]
  },
  {
   "cell_type": "markdown",
   "id": "d6f39fd5",
   "metadata": {},
   "source": [
    "## Explore keyword results\n",
    "We can now use the extracted keywords together with the original text to either search or visualize the keywords in context.\n",
    "The code below uses the `KeywordExplorer` instance created when you extracted the keywords in the previous step."
   ]
  },
  {
   "cell_type": "code",
   "execution_count": null,
   "id": "5537fd78",
   "metadata": {},
   "outputs": [],
   "source": [
    "# Show training and predicted keywords\n",
    "kwe.training_and_predicted_keywords()"
   ]
  },
  {
   "cell_type": "markdown",
   "id": "b63f4a74",
   "metadata": {},
   "source": [
    "### Search for all experiments that have a particular keyword"
   ]
  },
  {
   "cell_type": "code",
   "execution_count": null,
   "id": "83d75198",
   "metadata": {},
   "outputs": [],
   "source": [
    "# Search for a keyword\n",
    "keyword = \"magnet\"\n",
    "kwe.find(keyword)"
   ]
  },
  {
   "cell_type": "markdown",
   "id": "e914a059",
   "metadata": {},
   "source": [
    "### Visualize keywords\n",
    "You can also view the keywords in context with a styled HTML output."
   ]
  },
  {
   "cell_type": "code",
   "execution_count": null,
   "id": "7b231d28",
   "metadata": {},
   "outputs": [],
   "source": [
    "filename = \"mfxp17218_content.txt\"\n",
    "# filename = None  # all files\n",
    "HTML(kwe.view_keywords(\n",
    "        show_training=True, show_predicted=True, textfilename=filename\n",
    "    )\n",
    ")"
   ]
  }
 ],
 "metadata": {
  "kernelspec": {
   "display_name": "sciencesearch-py3.12",
   "language": "python",
   "name": "python3"
  },
  "language_info": {
   "codemirror_mode": {
    "name": "ipython",
    "version": 3
   },
   "file_extension": ".py",
   "mimetype": "text/x-python",
   "name": "python",
   "nbconvert_exporter": "python",
   "pygments_lexer": "ipython3",
   "version": "3.12.10"
  }
 },
 "nbformat": 4,
 "nbformat_minor": 5
}
